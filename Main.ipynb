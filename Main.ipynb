{
 "cells": [
  {
   "cell_type": "markdown",
   "id": "incorrect-devon",
   "metadata": {},
   "source": [
    "# Project 2: New Cases Prediction [COVID-19 Indonesia Dataset] "
   ]
  },
  {
   "cell_type": "markdown",
   "id": "driven-constitutional",
   "metadata": {},
   "source": [
    "## 1. Data Preparation"
   ]
  },
  {
   "cell_type": "markdown",
   "id": "elegant-replica",
   "metadata": {},
   "source": [
    "### 1.1 Import Libraries"
   ]
  },
  {
   "cell_type": "markdown",
   "id": "material-amazon",
   "metadata": {},
   "source": [
    "Import beberapa library yang dibutuhkan"
   ]
  },
  {
   "cell_type": "code",
   "execution_count": 2,
   "id": "uniform-science",
   "metadata": {},
   "outputs": [],
   "source": [
    "import pandas as pd\n",
    "import seaborn as sns\n",
    "import matplotlib.pyplot as plt\n",
    "import numpy as np\n",
    "from scipy import stats\n",
    "\n",
    "from sklearn.preprocessing import LabelEncoder\n",
    "from sklearn.tree import DecisionTreeClassifier\n",
    "\n",
    "from sklearn.model_selection import train_test_split\n",
    "from sklearn.preprocessing import MinMaxScaler"
   ]
  },
  {
   "cell_type": "markdown",
   "id": "mechanical-commission",
   "metadata": {},
   "source": [
    "### 1.2 Import Dataset "
   ]
  },
  {
   "cell_type": "markdown",
   "id": "large-poster",
   "metadata": {},
   "source": [
    "Import dataset yang akan digunakan, lalu tampilkan dataset untuk mengecek apakah import berhasil atau tidak"
   ]
  },
  {
   "cell_type": "code",
   "execution_count": 4,
   "id": "scientific-charleston",
   "metadata": {},
   "outputs": [],
   "source": [
    "df = pd.read_csv('./dataset/covid_19_indonesia_time_series_all.csv')\n",
    "df = df.set_index('Location')"
   ]
  },
  {
   "cell_type": "code",
   "execution_count": 5,
   "id": "static-colony",
   "metadata": {},
   "outputs": [
    {
     "data": {
      "text/html": [
       "<div>\n",
       "<style scoped>\n",
       "    .dataframe tbody tr th:only-of-type {\n",
       "        vertical-align: middle;\n",
       "    }\n",
       "\n",
       "    .dataframe tbody tr th {\n",
       "        vertical-align: top;\n",
       "    }\n",
       "\n",
       "    .dataframe thead th {\n",
       "        text-align: right;\n",
       "    }\n",
       "</style>\n",
       "<table border=\"1\" class=\"dataframe\">\n",
       "  <thead>\n",
       "    <tr style=\"text-align: right;\">\n",
       "      <th></th>\n",
       "      <th>Date</th>\n",
       "      <th>Location ISO Code</th>\n",
       "      <th>New Cases</th>\n",
       "      <th>New Deaths</th>\n",
       "      <th>New Recovered</th>\n",
       "      <th>New Active Cases</th>\n",
       "      <th>Total Cases</th>\n",
       "      <th>Total Deaths</th>\n",
       "      <th>Total Recovered</th>\n",
       "      <th>Total Active Cases</th>\n",
       "      <th>...</th>\n",
       "      <th>Longitude</th>\n",
       "      <th>Latitude</th>\n",
       "      <th>New Cases per Million</th>\n",
       "      <th>Total Cases per Million</th>\n",
       "      <th>New Deaths per Million</th>\n",
       "      <th>Total Deaths per Million</th>\n",
       "      <th>Case Fatality Rate</th>\n",
       "      <th>Case Recovered Rate</th>\n",
       "      <th>Growth Factor of New Cases</th>\n",
       "      <th>Growth Factor of New Deaths</th>\n",
       "    </tr>\n",
       "    <tr>\n",
       "      <th>Location</th>\n",
       "      <th></th>\n",
       "      <th></th>\n",
       "      <th></th>\n",
       "      <th></th>\n",
       "      <th></th>\n",
       "      <th></th>\n",
       "      <th></th>\n",
       "      <th></th>\n",
       "      <th></th>\n",
       "      <th></th>\n",
       "      <th></th>\n",
       "      <th></th>\n",
       "      <th></th>\n",
       "      <th></th>\n",
       "      <th></th>\n",
       "      <th></th>\n",
       "      <th></th>\n",
       "      <th></th>\n",
       "      <th></th>\n",
       "      <th></th>\n",
       "      <th></th>\n",
       "    </tr>\n",
       "  </thead>\n",
       "  <tbody>\n",
       "    <tr>\n",
       "      <th>DKI Jakarta</th>\n",
       "      <td>3/1/2020</td>\n",
       "      <td>ID-JK</td>\n",
       "      <td>2</td>\n",
       "      <td>0</td>\n",
       "      <td>0</td>\n",
       "      <td>2</td>\n",
       "      <td>489</td>\n",
       "      <td>35</td>\n",
       "      <td>39</td>\n",
       "      <td>415</td>\n",
       "      <td>...</td>\n",
       "      <td>106.836118</td>\n",
       "      <td>-6.204699</td>\n",
       "      <td>0.18</td>\n",
       "      <td>45.09</td>\n",
       "      <td>0.0</td>\n",
       "      <td>3.23</td>\n",
       "      <td>7.16%</td>\n",
       "      <td>7.98%</td>\n",
       "      <td>NaN</td>\n",
       "      <td>NaN</td>\n",
       "    </tr>\n",
       "    <tr>\n",
       "      <th>DKI Jakarta</th>\n",
       "      <td>3/2/2020</td>\n",
       "      <td>ID-JK</td>\n",
       "      <td>2</td>\n",
       "      <td>0</td>\n",
       "      <td>0</td>\n",
       "      <td>2</td>\n",
       "      <td>491</td>\n",
       "      <td>35</td>\n",
       "      <td>39</td>\n",
       "      <td>417</td>\n",
       "      <td>...</td>\n",
       "      <td>106.836118</td>\n",
       "      <td>-6.204699</td>\n",
       "      <td>0.18</td>\n",
       "      <td>45.27</td>\n",
       "      <td>0.0</td>\n",
       "      <td>3.23</td>\n",
       "      <td>7.13%</td>\n",
       "      <td>7.94%</td>\n",
       "      <td>1.0</td>\n",
       "      <td>1.0</td>\n",
       "    </tr>\n",
       "    <tr>\n",
       "      <th>Indonesia</th>\n",
       "      <td>3/2/2020</td>\n",
       "      <td>IDN</td>\n",
       "      <td>2</td>\n",
       "      <td>0</td>\n",
       "      <td>0</td>\n",
       "      <td>2</td>\n",
       "      <td>2</td>\n",
       "      <td>0</td>\n",
       "      <td>0</td>\n",
       "      <td>2</td>\n",
       "      <td>...</td>\n",
       "      <td>113.921327</td>\n",
       "      <td>-0.789275</td>\n",
       "      <td>0.01</td>\n",
       "      <td>0.01</td>\n",
       "      <td>0.0</td>\n",
       "      <td>0.00</td>\n",
       "      <td>0.00%</td>\n",
       "      <td>0.00%</td>\n",
       "      <td>NaN</td>\n",
       "      <td>NaN</td>\n",
       "    </tr>\n",
       "    <tr>\n",
       "      <th>Jawa Barat</th>\n",
       "      <td>3/2/2020</td>\n",
       "      <td>ID-JB</td>\n",
       "      <td>3</td>\n",
       "      <td>0</td>\n",
       "      <td>0</td>\n",
       "      <td>3</td>\n",
       "      <td>12</td>\n",
       "      <td>10</td>\n",
       "      <td>624</td>\n",
       "      <td>-622</td>\n",
       "      <td>...</td>\n",
       "      <td>107.603708</td>\n",
       "      <td>-6.920432</td>\n",
       "      <td>0.07</td>\n",
       "      <td>0.27</td>\n",
       "      <td>0.0</td>\n",
       "      <td>0.22</td>\n",
       "      <td>83.33%</td>\n",
       "      <td>5200.00%</td>\n",
       "      <td>NaN</td>\n",
       "      <td>NaN</td>\n",
       "    </tr>\n",
       "    <tr>\n",
       "      <th>Riau</th>\n",
       "      <td>3/2/2020</td>\n",
       "      <td>ID-RI</td>\n",
       "      <td>1</td>\n",
       "      <td>0</td>\n",
       "      <td>0</td>\n",
       "      <td>1</td>\n",
       "      <td>2</td>\n",
       "      <td>2</td>\n",
       "      <td>8</td>\n",
       "      <td>-8</td>\n",
       "      <td>...</td>\n",
       "      <td>101.805109</td>\n",
       "      <td>0.511648</td>\n",
       "      <td>0.16</td>\n",
       "      <td>0.33</td>\n",
       "      <td>0.0</td>\n",
       "      <td>0.33</td>\n",
       "      <td>100.00%</td>\n",
       "      <td>400.00%</td>\n",
       "      <td>NaN</td>\n",
       "      <td>NaN</td>\n",
       "    </tr>\n",
       "  </tbody>\n",
       "</table>\n",
       "<p>5 rows × 36 columns</p>\n",
       "</div>"
      ],
      "text/plain": [
       "                 Date Location ISO Code  New Cases  New Deaths  New Recovered  \\\n",
       "Location                                                                        \n",
       "DKI Jakarta  3/1/2020             ID-JK          2           0              0   \n",
       "DKI Jakarta  3/2/2020             ID-JK          2           0              0   \n",
       "Indonesia    3/2/2020               IDN          2           0              0   \n",
       "Jawa Barat   3/2/2020             ID-JB          3           0              0   \n",
       "Riau         3/2/2020             ID-RI          1           0              0   \n",
       "\n",
       "             New Active Cases  Total Cases  Total Deaths  Total Recovered  \\\n",
       "Location                                                                    \n",
       "DKI Jakarta                 2          489            35               39   \n",
       "DKI Jakarta                 2          491            35               39   \n",
       "Indonesia                   2            2             0                0   \n",
       "Jawa Barat                  3           12            10              624   \n",
       "Riau                        1            2             2                8   \n",
       "\n",
       "             Total Active Cases  ...   Longitude  Latitude  \\\n",
       "Location                         ...                         \n",
       "DKI Jakarta                 415  ...  106.836118 -6.204699   \n",
       "DKI Jakarta                 417  ...  106.836118 -6.204699   \n",
       "Indonesia                     2  ...  113.921327 -0.789275   \n",
       "Jawa Barat                 -622  ...  107.603708 -6.920432   \n",
       "Riau                         -8  ...  101.805109  0.511648   \n",
       "\n",
       "            New Cases per Million Total Cases per Million  \\\n",
       "Location                                                    \n",
       "DKI Jakarta                  0.18                   45.09   \n",
       "DKI Jakarta                  0.18                   45.27   \n",
       "Indonesia                    0.01                    0.01   \n",
       "Jawa Barat                   0.07                    0.27   \n",
       "Riau                         0.16                    0.33   \n",
       "\n",
       "            New Deaths per Million Total Deaths per Million  \\\n",
       "Location                                                      \n",
       "DKI Jakarta                    0.0                     3.23   \n",
       "DKI Jakarta                    0.0                     3.23   \n",
       "Indonesia                      0.0                     0.00   \n",
       "Jawa Barat                     0.0                     0.22   \n",
       "Riau                           0.0                     0.33   \n",
       "\n",
       "            Case Fatality Rate Case Recovered Rate  \\\n",
       "Location                                             \n",
       "DKI Jakarta              7.16%               7.98%   \n",
       "DKI Jakarta              7.13%               7.94%   \n",
       "Indonesia                0.00%               0.00%   \n",
       "Jawa Barat              83.33%            5200.00%   \n",
       "Riau                   100.00%             400.00%   \n",
       "\n",
       "             Growth Factor of New Cases  Growth Factor of New Deaths  \n",
       "Location                                                              \n",
       "DKI Jakarta                         NaN                          NaN  \n",
       "DKI Jakarta                         1.0                          1.0  \n",
       "Indonesia                           NaN                          NaN  \n",
       "Jawa Barat                          NaN                          NaN  \n",
       "Riau                                NaN                          NaN  \n",
       "\n",
       "[5 rows x 36 columns]"
      ]
     },
     "execution_count": 5,
     "metadata": {},
     "output_type": "execute_result"
    }
   ],
   "source": [
    "df.head()"
   ]
  },
  {
   "cell_type": "markdown",
   "id": "compatible-castle",
   "metadata": {},
   "source": [
    "## 2. Exploratory Data Analysis (EDA)"
   ]
  },
  {
   "cell_type": "markdown",
   "id": "dimensional-vocabulary",
   "metadata": {},
   "source": [
    "Menganalisa karakteristik data dengan perintah `info()`, `describe()`, `shape`, dan beberapa perintah lainnya agar menemukan insight yang dapat berguna dalam pengolahan data dan perancangan model machine learning. Lalu, mencatat segala macam penemuan pada dataset seperti data yang kosong, tidak lengkap, redundant, atau data yang perlu pengolahan lebih lanjut. Hal-hal yang sudah dicatat tersebut akan diolah dan dieksekusi pada tahapan Data Preprocessing."
   ]
  },
  {
   "cell_type": "code",
   "execution_count": 8,
   "id": "impaired-emission",
   "metadata": {},
   "outputs": [
    {
     "name": "stdout",
     "output_type": "stream",
     "text": [
      "<class 'pandas.core.frame.DataFrame'>\n",
      "Index: 13014 entries, DKI Jakarta to Sumatera Utara\n",
      "Data columns (total 36 columns):\n",
      " #   Column                       Non-Null Count  Dtype  \n",
      "---  ------                       --------------  -----  \n",
      " 0   Date                         13014 non-null  object \n",
      " 1   Location ISO Code            13014 non-null  object \n",
      " 2   New Cases                    13014 non-null  int64  \n",
      " 3   New Deaths                   13014 non-null  int64  \n",
      " 4   New Recovered                13014 non-null  int64  \n",
      " 5   New Active Cases             13014 non-null  int64  \n",
      " 6   Total Cases                  13014 non-null  int64  \n",
      " 7   Total Deaths                 13014 non-null  int64  \n",
      " 8   Total Recovered              13014 non-null  int64  \n",
      " 9   Total Active Cases           13014 non-null  int64  \n",
      " 10  Location Level               13014 non-null  object \n",
      " 11  City or Regency              0 non-null      float64\n",
      " 12  Province                     12622 non-null  object \n",
      " 13  Country                      13014 non-null  object \n",
      " 14  Continent                    13014 non-null  object \n",
      " 15  Island                       12622 non-null  object \n",
      " 16  Time Zone                    12622 non-null  object \n",
      " 17  Special Status               1878 non-null   object \n",
      " 18  Total Regencies              13014 non-null  int64  \n",
      " 19  Total Cities                 12648 non-null  float64\n",
      " 20  Total Districts              13014 non-null  int64  \n",
      " 21  Total Urban Villages         12646 non-null  float64\n",
      " 22  Total Rural Villages         12621 non-null  float64\n",
      " 23  Area (km2)                   13014 non-null  int64  \n",
      " 24  Population                   13014 non-null  int64  \n",
      " 25  Population Density           13014 non-null  float64\n",
      " 26  Longitude                    13014 non-null  float64\n",
      " 27  Latitude                     13014 non-null  float64\n",
      " 28  New Cases per Million        13014 non-null  float64\n",
      " 29  Total Cases per Million      13014 non-null  float64\n",
      " 30  New Deaths per Million       13014 non-null  float64\n",
      " 31  Total Deaths per Million     13014 non-null  float64\n",
      " 32  Case Fatality Rate           13014 non-null  object \n",
      " 33  Case Recovered Rate          13014 non-null  object \n",
      " 34  Growth Factor of New Cases   12071 non-null  float64\n",
      " 35  Growth Factor of New Deaths  11367 non-null  float64\n",
      "dtypes: float64(13), int64(12), object(11)\n",
      "memory usage: 3.7+ MB\n"
     ]
    }
   ],
   "source": [
    "# Melihat jumlah tipe data tiap kolom dalam dataset\n",
    "df.info()"
   ]
  },
  {
   "cell_type": "markdown",
   "id": "partial-information",
   "metadata": {},
   "source": [
    "Dataset memiliki 37 feature/kolom, terdiri dari 12 kolom dengan tipe data katagorikal dan 25 kolom dengan tipe data numerikal."
   ]
  },
  {
   "cell_type": "code",
   "execution_count": 10,
   "id": "dirty-bathroom",
   "metadata": {},
   "outputs": [
    {
     "data": {
      "text/html": [
       "<div>\n",
       "<style scoped>\n",
       "    .dataframe tbody tr th:only-of-type {\n",
       "        vertical-align: middle;\n",
       "    }\n",
       "\n",
       "    .dataframe tbody tr th {\n",
       "        vertical-align: top;\n",
       "    }\n",
       "\n",
       "    .dataframe thead th {\n",
       "        text-align: right;\n",
       "    }\n",
       "</style>\n",
       "<table border=\"1\" class=\"dataframe\">\n",
       "  <thead>\n",
       "    <tr style=\"text-align: right;\">\n",
       "      <th></th>\n",
       "      <th>New Cases</th>\n",
       "      <th>New Deaths</th>\n",
       "      <th>New Recovered</th>\n",
       "      <th>New Active Cases</th>\n",
       "      <th>Total Cases</th>\n",
       "      <th>Total Deaths</th>\n",
       "      <th>Total Recovered</th>\n",
       "      <th>Total Active Cases</th>\n",
       "      <th>City or Regency</th>\n",
       "      <th>Total Regencies</th>\n",
       "      <th>...</th>\n",
       "      <th>Population</th>\n",
       "      <th>Population Density</th>\n",
       "      <th>Longitude</th>\n",
       "      <th>Latitude</th>\n",
       "      <th>New Cases per Million</th>\n",
       "      <th>Total Cases per Million</th>\n",
       "      <th>New Deaths per Million</th>\n",
       "      <th>Total Deaths per Million</th>\n",
       "      <th>Growth Factor of New Cases</th>\n",
       "      <th>Growth Factor of New Deaths</th>\n",
       "    </tr>\n",
       "  </thead>\n",
       "  <tbody>\n",
       "    <tr>\n",
       "      <th>count</th>\n",
       "      <td>13014.000000</td>\n",
       "      <td>13014.000000</td>\n",
       "      <td>13014.000000</td>\n",
       "      <td>13014.000000</td>\n",
       "      <td>1.301400e+04</td>\n",
       "      <td>13014.000000</td>\n",
       "      <td>1.301400e+04</td>\n",
       "      <td>13014.000000</td>\n",
       "      <td>0.0</td>\n",
       "      <td>13014.000000</td>\n",
       "      <td>...</td>\n",
       "      <td>1.301400e+04</td>\n",
       "      <td>13014.000000</td>\n",
       "      <td>13014.000000</td>\n",
       "      <td>13014.000000</td>\n",
       "      <td>13014.000000</td>\n",
       "      <td>13014.000000</td>\n",
       "      <td>13014.000000</td>\n",
       "      <td>13014.000000</td>\n",
       "      <td>12071.000000</td>\n",
       "      <td>11367.000000</td>\n",
       "    </tr>\n",
       "    <tr>\n",
       "      <th>mean</th>\n",
       "      <td>229.870678</td>\n",
       "      <td>6.159521</td>\n",
       "      <td>204.068465</td>\n",
       "      <td>19.642692</td>\n",
       "      <td>2.496575e+04</td>\n",
       "      <td>769.013370</td>\n",
       "      <td>2.047353e+04</td>\n",
       "      <td>3723.197710</td>\n",
       "      <td>NaN</td>\n",
       "      <td>24.407331</td>\n",
       "      <td>...</td>\n",
       "      <td>1.567663e+07</td>\n",
       "      <td>756.893061</td>\n",
       "      <td>113.664259</td>\n",
       "      <td>-2.733003</td>\n",
       "      <td>16.141075</td>\n",
       "      <td>1790.045239</td>\n",
       "      <td>0.367225</td>\n",
       "      <td>45.664902</td>\n",
       "      <td>1.455591</td>\n",
       "      <td>1.045951</td>\n",
       "    </tr>\n",
       "    <tr>\n",
       "      <th>std</th>\n",
       "      <td>925.079589</td>\n",
       "      <td>23.731329</td>\n",
       "      <td>849.104101</td>\n",
       "      <td>260.967245</td>\n",
       "      <td>1.106131e+05</td>\n",
       "      <td>3161.067362</td>\n",
       "      <td>9.398453e+04</td>\n",
       "      <td>14538.525964</td>\n",
       "      <td>NaN</td>\n",
       "      <td>69.394459</td>\n",
       "      <td>...</td>\n",
       "      <td>4.526533e+07</td>\n",
       "      <td>2773.772723</td>\n",
       "      <td>9.861775</td>\n",
       "      <td>3.600992</td>\n",
       "      <td>30.807969</td>\n",
       "      <td>3163.520044</td>\n",
       "      <td>0.818305</td>\n",
       "      <td>64.553927</td>\n",
       "      <td>3.308223</td>\n",
       "      <td>1.629915</td>\n",
       "    </tr>\n",
       "    <tr>\n",
       "      <th>min</th>\n",
       "      <td>0.000000</td>\n",
       "      <td>0.000000</td>\n",
       "      <td>0.000000</td>\n",
       "      <td>-5003.000000</td>\n",
       "      <td>1.000000e+00</td>\n",
       "      <td>0.000000</td>\n",
       "      <td>0.000000e+00</td>\n",
       "      <td>-1195.000000</td>\n",
       "      <td>NaN</td>\n",
       "      <td>1.000000</td>\n",
       "      <td>...</td>\n",
       "      <td>6.484070e+05</td>\n",
       "      <td>8.590000</td>\n",
       "      <td>96.910522</td>\n",
       "      <td>-8.682205</td>\n",
       "      <td>0.000000</td>\n",
       "      <td>0.010000</td>\n",
       "      <td>0.000000</td>\n",
       "      <td>0.000000</td>\n",
       "      <td>0.000000</td>\n",
       "      <td>0.000000</td>\n",
       "    </tr>\n",
       "    <tr>\n",
       "      <th>25%</th>\n",
       "      <td>4.000000</td>\n",
       "      <td>0.000000</td>\n",
       "      <td>1.000000</td>\n",
       "      <td>-6.000000</td>\n",
       "      <td>3.710000e+02</td>\n",
       "      <td>11.000000</td>\n",
       "      <td>2.310000e+02</td>\n",
       "      <td>97.250000</td>\n",
       "      <td>NaN</td>\n",
       "      <td>7.000000</td>\n",
       "      <td>...</td>\n",
       "      <td>1.999539e+06</td>\n",
       "      <td>47.790000</td>\n",
       "      <td>106.109004</td>\n",
       "      <td>-6.204699</td>\n",
       "      <td>1.140000</td>\n",
       "      <td>100.070000</td>\n",
       "      <td>0.000000</td>\n",
       "      <td>3.080000</td>\n",
       "      <td>0.590000</td>\n",
       "      <td>0.670000</td>\n",
       "    </tr>\n",
       "    <tr>\n",
       "      <th>50%</th>\n",
       "      <td>29.000000</td>\n",
       "      <td>0.000000</td>\n",
       "      <td>17.000000</td>\n",
       "      <td>2.000000</td>\n",
       "      <td>3.160500e+03</td>\n",
       "      <td>88.000000</td>\n",
       "      <td>2.077000e+03</td>\n",
       "      <td>607.000000</td>\n",
       "      <td>NaN</td>\n",
       "      <td>11.000000</td>\n",
       "      <td>...</td>\n",
       "      <td>4.216171e+06</td>\n",
       "      <td>103.840000</td>\n",
       "      <td>113.417654</td>\n",
       "      <td>-2.461746</td>\n",
       "      <td>6.330000</td>\n",
       "      <td>738.260000</td>\n",
       "      <td>0.000000</td>\n",
       "      <td>22.740000</td>\n",
       "      <td>1.000000</td>\n",
       "      <td>1.000000</td>\n",
       "    </tr>\n",
       "    <tr>\n",
       "      <th>75%</th>\n",
       "      <td>98.000000</td>\n",
       "      <td>3.000000</td>\n",
       "      <td>81.000000</td>\n",
       "      <td>25.000000</td>\n",
       "      <td>1.064200e+04</td>\n",
       "      <td>362.000000</td>\n",
       "      <td>8.122750e+03</td>\n",
       "      <td>1924.500000</td>\n",
       "      <td>NaN</td>\n",
       "      <td>18.000000</td>\n",
       "      <td>...</td>\n",
       "      <td>9.095591e+06</td>\n",
       "      <td>262.700000</td>\n",
       "      <td>121.201093</td>\n",
       "      <td>0.212037</td>\n",
       "      <td>17.617500</td>\n",
       "      <td>2313.972500</td>\n",
       "      <td>0.490000</td>\n",
       "      <td>65.647500</td>\n",
       "      <td>1.330000</td>\n",
       "      <td>1.000000</td>\n",
       "    </tr>\n",
       "    <tr>\n",
       "      <th>max</th>\n",
       "      <td>14518.000000</td>\n",
       "      <td>476.000000</td>\n",
       "      <td>13038.000000</td>\n",
       "      <td>5279.000000</td>\n",
       "      <td>1.496085e+06</td>\n",
       "      <td>40449.000000</td>\n",
       "      <td>1.331400e+06</td>\n",
       "      <td>176672.000000</td>\n",
       "      <td>NaN</td>\n",
       "      <td>416.000000</td>\n",
       "      <td>...</td>\n",
       "      <td>2.651855e+08</td>\n",
       "      <td>16334.310000</td>\n",
       "      <td>138.696030</td>\n",
       "      <td>4.225615</td>\n",
       "      <td>428.740000</td>\n",
       "      <td>35007.000000</td>\n",
       "      <td>36.960000</td>\n",
       "      <td>582.330000</td>\n",
       "      <td>120.500000</td>\n",
       "      <td>102.000000</td>\n",
       "    </tr>\n",
       "  </tbody>\n",
       "</table>\n",
       "<p>8 rows × 25 columns</p>\n",
       "</div>"
      ],
      "text/plain": [
       "          New Cases    New Deaths  New Recovered  New Active Cases  \\\n",
       "count  13014.000000  13014.000000   13014.000000      13014.000000   \n",
       "mean     229.870678      6.159521     204.068465         19.642692   \n",
       "std      925.079589     23.731329     849.104101        260.967245   \n",
       "min        0.000000      0.000000       0.000000      -5003.000000   \n",
       "25%        4.000000      0.000000       1.000000         -6.000000   \n",
       "50%       29.000000      0.000000      17.000000          2.000000   \n",
       "75%       98.000000      3.000000      81.000000         25.000000   \n",
       "max    14518.000000    476.000000   13038.000000       5279.000000   \n",
       "\n",
       "        Total Cases  Total Deaths  Total Recovered  Total Active Cases  \\\n",
       "count  1.301400e+04  13014.000000     1.301400e+04        13014.000000   \n",
       "mean   2.496575e+04    769.013370     2.047353e+04         3723.197710   \n",
       "std    1.106131e+05   3161.067362     9.398453e+04        14538.525964   \n",
       "min    1.000000e+00      0.000000     0.000000e+00        -1195.000000   \n",
       "25%    3.710000e+02     11.000000     2.310000e+02           97.250000   \n",
       "50%    3.160500e+03     88.000000     2.077000e+03          607.000000   \n",
       "75%    1.064200e+04    362.000000     8.122750e+03         1924.500000   \n",
       "max    1.496085e+06  40449.000000     1.331400e+06       176672.000000   \n",
       "\n",
       "       City or Regency  Total Regencies  ...    Population  \\\n",
       "count              0.0     13014.000000  ...  1.301400e+04   \n",
       "mean               NaN        24.407331  ...  1.567663e+07   \n",
       "std                NaN        69.394459  ...  4.526533e+07   \n",
       "min                NaN         1.000000  ...  6.484070e+05   \n",
       "25%                NaN         7.000000  ...  1.999539e+06   \n",
       "50%                NaN        11.000000  ...  4.216171e+06   \n",
       "75%                NaN        18.000000  ...  9.095591e+06   \n",
       "max                NaN       416.000000  ...  2.651855e+08   \n",
       "\n",
       "       Population Density     Longitude      Latitude  New Cases per Million  \\\n",
       "count        13014.000000  13014.000000  13014.000000           13014.000000   \n",
       "mean           756.893061    113.664259     -2.733003              16.141075   \n",
       "std           2773.772723      9.861775      3.600992              30.807969   \n",
       "min              8.590000     96.910522     -8.682205               0.000000   \n",
       "25%             47.790000    106.109004     -6.204699               1.140000   \n",
       "50%            103.840000    113.417654     -2.461746               6.330000   \n",
       "75%            262.700000    121.201093      0.212037              17.617500   \n",
       "max          16334.310000    138.696030      4.225615             428.740000   \n",
       "\n",
       "       Total Cases per Million  New Deaths per Million  \\\n",
       "count             13014.000000            13014.000000   \n",
       "mean               1790.045239                0.367225   \n",
       "std                3163.520044                0.818305   \n",
       "min                   0.010000                0.000000   \n",
       "25%                 100.070000                0.000000   \n",
       "50%                 738.260000                0.000000   \n",
       "75%                2313.972500                0.490000   \n",
       "max               35007.000000               36.960000   \n",
       "\n",
       "       Total Deaths per Million  Growth Factor of New Cases  \\\n",
       "count              13014.000000                12071.000000   \n",
       "mean                  45.664902                    1.455591   \n",
       "std                   64.553927                    3.308223   \n",
       "min                    0.000000                    0.000000   \n",
       "25%                    3.080000                    0.590000   \n",
       "50%                   22.740000                    1.000000   \n",
       "75%                   65.647500                    1.330000   \n",
       "max                  582.330000                  120.500000   \n",
       "\n",
       "       Growth Factor of New Deaths  \n",
       "count                 11367.000000  \n",
       "mean                      1.045951  \n",
       "std                       1.629915  \n",
       "min                       0.000000  \n",
       "25%                       0.670000  \n",
       "50%                       1.000000  \n",
       "75%                       1.000000  \n",
       "max                     102.000000  \n",
       "\n",
       "[8 rows x 25 columns]"
      ]
     },
     "execution_count": 10,
     "metadata": {},
     "output_type": "execute_result"
    }
   ],
   "source": [
    "# Melihat summary statistics\n",
    "df.describe()"
   ]
  },
  {
   "cell_type": "code",
   "execution_count": 13,
   "id": "therapeutic-paint",
   "metadata": {},
   "outputs": [
    {
     "data": {
      "text/plain": [
       "(13014, 36)"
      ]
     },
     "execution_count": 13,
     "metadata": {},
     "output_type": "execute_result"
    }
   ],
   "source": [
    "# Melihat dimensi (baris, kolom) dataset\n",
    "df.shape"
   ]
  },
  {
   "cell_type": "markdown",
   "id": "elegant-programming",
   "metadata": {},
   "source": [
    "### 2.1 Menentukan Kolom yang Akan diimputasi"
   ]
  },
  {
   "cell_type": "markdown",
   "id": "offensive-terrain",
   "metadata": {},
   "source": [
    "Melihat data null tiap kolom dalam bentuk presentase beserta tipe datanya"
   ]
  },
  {
   "cell_type": "code",
   "execution_count": 14,
   "id": "pacific-hungarian",
   "metadata": {},
   "outputs": [
    {
     "name": "stdout",
     "output_type": "stream",
     "text": [
      "Date:0.0%\t\tobject\n",
      "Location ISO Code:0.0%\t\tobject\n",
      "New Cases:0.0%\t\tint64\n",
      "New Deaths:0.0%\t\tint64\n",
      "New Recovered:0.0%\t\tint64\n",
      "New Active Cases:0.0%\t\tint64\n",
      "Total Cases:0.0%\t\tint64\n",
      "Total Deaths:0.0%\t\tint64\n",
      "Total Recovered:0.0%\t\tint64\n",
      "Total Active Cases:0.0%\t\tint64\n",
      "Location Level:0.0%\t\tobject\n",
      "City or Regency:100.0%\t\tfloat64\n",
      "Province:3.012%\t\tobject\n",
      "Country:0.0%\t\tobject\n",
      "Continent:0.0%\t\tobject\n",
      "Island:3.012%\t\tobject\n",
      "Time Zone:3.012%\t\tobject\n",
      "Special Status:85.569%\t\tobject\n",
      "Total Regencies:0.0%\t\tint64\n",
      "Total Cities:2.812%\t\tfloat64\n",
      "Total Districts:0.0%\t\tint64\n",
      "Total Urban Villages:2.828%\t\tfloat64\n",
      "Total Rural Villages:3.02%\t\tfloat64\n",
      "Area (km2):0.0%\t\tint64\n",
      "Population:0.0%\t\tint64\n",
      "Population Density:0.0%\t\tfloat64\n",
      "Longitude:0.0%\t\tfloat64\n",
      "Latitude:0.0%\t\tfloat64\n",
      "New Cases per Million:0.0%\t\tfloat64\n",
      "Total Cases per Million:0.0%\t\tfloat64\n",
      "New Deaths per Million:0.0%\t\tfloat64\n",
      "Total Deaths per Million:0.0%\t\tfloat64\n",
      "Case Fatality Rate:0.0%\t\tobject\n",
      "Case Recovered Rate:0.0%\t\tobject\n",
      "Growth Factor of New Cases:7.246%\t\tfloat64\n",
      "Growth Factor of New Deaths:12.656%\t\tfloat64\n"
     ]
    }
   ],
   "source": [
    "columns = list(df.columns)\n",
    "\n",
    "for col in columns:\n",
    "  print(f\"{col}:{round((df[col].isnull().sum() / len(df) * 100), 3)}%\\t\\t{df[col].dtype}\")"
   ]
  },
  {
   "cell_type": "markdown",
   "id": "advance-legend",
   "metadata": {},
   "source": [
    "Membuat looping untuk memfilter setiap kolom dalam dataset dan mengelompokannya ke dalam beberapa list untuk menentukan kolom mana saja yang akan diimputasi (kolom yang memiliki jumlah data null < 40%) dan kolom mana yang harus di drop (kolom yang memiliki jumlah data null > 40%) nantinya.\n",
    "\n",
    "- `cols_null_num` untuk kolom yang memiliki jumlah data null < 40% dan bertipe data numerik\n",
    "- `cols_null_obj` untuk kolom yang memiliki jumlah data null < 40% dan bertipe data kategori dan memiliki \n",
    "- `cols_drop` untuk kolom yang memiliki jumlah data null > 40%"
   ]
  },
  {
   "cell_type": "code",
   "execution_count": 15,
   "id": "painted-status",
   "metadata": {},
   "outputs": [],
   "source": [
    "cols_null_num = []\n",
    "cols_null_obj = []\n",
    "cols_drop = []\n",
    "\n",
    "for col in columns:\n",
    "  if ((df[col].isnull().sum() / len(df) * 100) != 0) and ((df[col].isnull().sum() / len(df) * 100) < 40) and (df[col].dtype != 'object'):\n",
    "    cols_null_num.append(col)\n",
    "  elif ((df[col].isnull().sum() / len(df) * 100) != 0) and ((df[col].isnull().sum() / len(df) * 100) < 40) and (df[col].dtype == 'object'):\n",
    "    cols_null_obj.append(col)\n",
    "  elif ((df[col].isnull().sum() / len(df) * 100) != 0) and ((df[col].isnull().sum() / len(df) * 100) > 40):\n",
    "    cols_drop.append(col)"
   ]
  },
  {
   "cell_type": "code",
   "execution_count": 20,
   "id": "owned-nickel",
   "metadata": {
    "scrolled": true
   },
   "outputs": [
    {
     "name": "stdout",
     "output_type": "stream",
     "text": [
      "Kolom numerik: ['Total Cities', 'Total Urban Villages', 'Total Rural Villages', 'Growth Factor of New Cases', 'Growth Factor of New Deaths']\n",
      "Kolom kategori: ['Province', 'Island', 'Time Zone']\n"
     ]
    }
   ],
   "source": [
    "print(f\"Kolom numerik: {cols_null_num}\")\n",
    "print(f\"Kolom kategori: {cols_null_obj}\")"
   ]
  },
  {
   "cell_type": "markdown",
   "id": "linear-nation",
   "metadata": {},
   "source": [
    "Kolom yang akan diimputasi:"
   ]
  },
  {
   "cell_type": "markdown",
   "id": "ordered-trinity",
   "metadata": {},
   "source": [
    "- Kolom numerik: 'Total Cities', 'Total Urban Villages', 'Total Rural Villages', 'Growth Factor of New Cases', 'Growth Factor of New Deaths'\n",
    "- Kolom kategori: 'Province', 'Island', 'Time Zone'"
   ]
  },
  {
   "cell_type": "markdown",
   "id": "noble-resolution",
   "metadata": {},
   "source": [
    "#### 2.1.1 Melihat Distribusi Data Untuk Menetukan Nilai Imputasi Tiap Kolom"
   ]
  },
  {
   "cell_type": "markdown",
   "id": "underlying-fireplace",
   "metadata": {},
   "source": [
    "- Kolom Numerik "
   ]
  },
  {
   "cell_type": "code",
   "execution_count": 21,
   "id": "sophisticated-scheme",
   "metadata": {},
   "outputs": [
    {
     "data": {
      "image/png": "[encoded data removed]",
      "text/plain": [
       "<Figure size 360x360 with 1 Axes>"
      ]
     },
     "metadata": {
      "needs_background": "light"
     },
     "output_type": "display_data"
    },
    {
     "data": {
      "image/png": "[encoded data removed]",
      "text/plain": [
       "<Figure size 360x360 with 1 Axes>"
      ]
     },
     "metadata": {
      "needs_background": "light"
     },
     "output_type": "display_data"
    },
    {
     "data": {
      "image/png": "[encoded data removed]",
      "text/plain": [
       "<Figure size 360x360 with 1 Axes>"
      ]
     },
     "metadata": {
      "needs_background": "light"
     },
     "output_type": "display_data"
    },
    {
     "data": {
      "image/png": "[encoded data removed]",
      "text/plain": [
       "<Figure size 360x360 with 1 Axes>"
      ]
     },
     "metadata": {
      "needs_background": "light"
     },
     "output_type": "display_data"
    },
    {
     "data": {
      "image/png": "[encoded data removed]",
      "text/plain": [
       "<Figure size 360x360 with 1 Axes>"
      ]
     },
     "metadata": {
      "needs_background": "light"
     },
     "output_type": "display_data"
    }
   ],
   "source": [
    "for col in cols_null_num:\n",
    "  sns.displot(df[col].value_counts(), kde=True)"
   ]
  },
  {
   "cell_type": "markdown",
   "id": "documentary-seattle",
   "metadata": {},
   "source": [
    "Kita dapat menetukan nilai yang akan mengganti nilai kosong berdasarkan distribusi data tiap feature. Untuk 'Total Rural Villages' memiliiki data berdistrbusi 'nyaris' normal, nilai modus merupakan pilihan tepat karena data yang bernilai bulat, mengapa tidak mean? karena nilai mean tidak terlalu bisa mewakili distribusi data yang tidak benar-benar normal/merata.\n",
    "\n",
    "Untuk kolom numerik lain seperti 'Total Cities', 'Total Urban Villages', 'Growth Factor of New Cases', dan 'Growth Factor of New Deaths' memiliki data yang sama sekali tidak merata, sehingga nilai median merupakan nilai yang cocok untuk dapat mengisi data null si setiap feature-nya."
   ]
  },
  {
   "cell_type": "markdown",
   "id": "powered-spanking",
   "metadata": {},
   "source": [
    "- Kolom Kategori"
   ]
  },
  {
   "cell_type": "code",
   "execution_count": 22,
   "id": "another-corpus",
   "metadata": {
    "scrolled": true
   },
   "outputs": [
    {
     "data": {
      "image/png": "[encoded data removed]",
      "text/plain": [
       "<Figure size 360x360 with 1 Axes>"
      ]
     },
     "metadata": {
      "needs_background": "light"
     },
     "output_type": "display_data"
    },
    {
     "data": {
      "image/png": "[encoded data removed]",
      "text/plain": [
       "<Figure size 360x360 with 1 Axes>"
      ]
     },
     "metadata": {
      "needs_background": "light"
     },
     "output_type": "display_data"
    },
    {
     "data": {
      "image/png": "[encoded data removed]",
      "text/plain": [
       "<Figure size 360x360 with 1 Axes>"
      ]
     },
     "metadata": {
      "needs_background": "light"
     },
     "output_type": "display_data"
    }
   ],
   "source": [
    "for col in cols_null_obj:\n",
    "  sns.displot(df[col].value_counts(), kde=True)"
   ]
  },
  {
   "cell_type": "markdown",
   "id": "utility-scott",
   "metadata": {},
   "source": [
    "Data null pada 'Province', 'Island', dan 'Time Zone' kurang baik jika diisi dengan modus data karena tidak bisa merepresentasikan data kolom terkait seperti provinsi atau pulau saat kasus COVID-19 ditemukan tidak akan dapat direpresentasikan dengan nama provinsi atau pulau yang paling banyak datanya.\n",
    "\n",
    "Namun solusi drop kolom juga kurang baik karena data null memiliki komposisi yang sedikit. Yang akan dilakukan adalah mengisi nilai null tersebut dengan angka nol, meskipun nilai nol tersebut diisi pada kolom kategori, namun pada akhirnya kolom tersebut juga akan diubah ke dalam bentuk numerik sehingga pengisian nilai nol tidak akan bermasalah."
   ]
  },
  {
   "cell_type": "markdown",
   "id": "baking-graduation",
   "metadata": {},
   "source": [
    "### 2.2 Menentukan Kolom yang Akan di Drop"
   ]
  },
  {
   "cell_type": "code",
   "execution_count": 23,
   "id": "searching-history",
   "metadata": {},
   "outputs": [
    {
     "data": {
      "text/plain": [
       "['City or Regency', 'Special Status']"
      ]
     },
     "execution_count": 23,
     "metadata": {},
     "output_type": "execute_result"
    }
   ],
   "source": [
    "cols_drop"
   ]
  },
  {
   "cell_type": "markdown",
   "id": "reported-front",
   "metadata": {},
   "source": [
    "Kolom yang akan di drop adalah kolom yang memiliki komposisi data null yang banyak (sekitar lebih dari 40% keseluruhan data kolom tersebut). Seluruh data kolom 'City or Regency' adalah null, sedangkan untuk kolom 'Special Status' memiliki 85.569% data null."
   ]
  },
  {
   "cell_type": "markdown",
   "id": "durable-camping",
   "metadata": {},
   "source": [
    "## 3. Data Preprocessing "
   ]
  },
  {
   "cell_type": "markdown",
   "id": "ranging-hormone",
   "metadata": {},
   "source": [
    "Beberapa hal yang didapatkan dari proses EDA adalah:\n",
    "- Handling Missing Value:\n",
    "  \n",
    "  - Imputasi: \n",
    "      \n",
    "      - 'Total Rural Villages' -> mod\n",
    "      - 'Total Urban Villages' -> median\n",
    "      - 'Total Cities' -> median\n",
    "      - 'Growth Factor of New Cases' -> median \n",
    "      - 'Growth Factor of New Deaths' -> median\n",
    "      - 'Province' -> 0 \n",
    "      - 'Island' -> 0\n",
    "      - 'Time Zone' -> 0\n",
    "  \n",
    "  - Drop Feature:\n",
    "\n",
    "    - 'City or Regency'\n",
    "    - 'Special Status'\n",
    "\n",
    "- Mengubah Kolom Kategori Menjadi Numerik"
   ]
  },
  {
   "cell_type": "markdown",
   "id": "consistent-resolution",
   "metadata": {},
   "source": [
    "### 3.1 Imputasi "
   ]
  },
  {
   "cell_type": "markdown",
   "id": "japanese-spanking",
   "metadata": {},
   "source": [
    "#### 3.1.1 Imputasi Kolom Numerik"
   ]
  },
  {
   "cell_type": "code",
   "execution_count": 25,
   "id": "historical-temperature",
   "metadata": {},
   "outputs": [],
   "source": [
    "# Membuat dictionary untuk menampung nilai pengisi\n",
    "filler_num = {\n",
    "    'Total Rural Villages': stats.mode(df['Total Rural Villages'])[0][0],\n",
    "    'Total Urban Villages': df['Total Urban Villages'].median(),\n",
    "    'Total Cities': df['Total Cities'].median(),\n",
    "    'Growth Factor of New Cases': df['Growth Factor of New Cases'].median(),\n",
    "    'Growth Factor of New Deaths': df['Growth Factor of New Deaths'].median()\n",
    "}"
   ]
  },
  {
   "cell_type": "code",
   "execution_count": 26,
   "id": "communist-disaster",
   "metadata": {},
   "outputs": [],
   "source": [
    "df.fillna(filler_num, inplace=True)"
   ]
  },
  {
   "cell_type": "markdown",
   "id": "appointed-lingerie",
   "metadata": {},
   "source": [
    "#### 3.1.2 Imputasi Kolom Kategorik"
   ]
  },
  {
   "cell_type": "markdown",
   "id": "checked-hobby",
   "metadata": {},
   "source": [
    "Mengisi data null di kolom 'Province', 'Island', 'Time Zone' dengan nilai nol"
   ]
  },
  {
   "cell_type": "code",
   "execution_count": 27,
   "id": "changed-excitement",
   "metadata": {},
   "outputs": [],
   "source": [
    "df[cols_null_obj] = df[cols_null_obj].replace([np.inf, -np.inf], np.nan)\n",
    "df[cols_null_obj] = df[cols_null_obj].fillna(0)"
   ]
  },
  {
   "cell_type": "markdown",
   "id": "secondary-ladder",
   "metadata": {},
   "source": [
    "### 3.2 Drop Kolom"
   ]
  },
  {
   "cell_type": "markdown",
   "id": "administrative-kinase",
   "metadata": {},
   "source": [
    "Drop feature 'City or Regency' dan 'Special Status'"
   ]
  },
  {
   "cell_type": "code",
   "execution_count": 28,
   "id": "active-powell",
   "metadata": {},
   "outputs": [],
   "source": [
    "df.drop(columns=cols_drop, inplace=True)"
   ]
  },
  {
   "cell_type": "markdown",
   "id": "senior-habitat",
   "metadata": {},
   "source": [
    "Mengecek perubahan yang dilakukan"
   ]
  },
  {
   "cell_type": "code",
   "execution_count": 29,
   "id": "documented-roman",
   "metadata": {},
   "outputs": [
    {
     "data": {
      "text/plain": [
       "Date                           0\n",
       "Location ISO Code              0\n",
       "New Cases                      0\n",
       "New Deaths                     0\n",
       "New Recovered                  0\n",
       "New Active Cases               0\n",
       "Total Cases                    0\n",
       "Total Deaths                   0\n",
       "Total Recovered                0\n",
       "Total Active Cases             0\n",
       "Location Level                 0\n",
       "Province                       0\n",
       "Country                        0\n",
       "Continent                      0\n",
       "Island                         0\n",
       "Time Zone                      0\n",
       "Total Regencies                0\n",
       "Total Cities                   0\n",
       "Total Districts                0\n",
       "Total Urban Villages           0\n",
       "Total Rural Villages           0\n",
       "Area (km2)                     0\n",
       "Population                     0\n",
       "Population Density             0\n",
       "Longitude                      0\n",
       "Latitude                       0\n",
       "New Cases per Million          0\n",
       "Total Cases per Million        0\n",
       "New Deaths per Million         0\n",
       "Total Deaths per Million       0\n",
       "Case Fatality Rate             0\n",
       "Case Recovered Rate            0\n",
       "Growth Factor of New Cases     0\n",
       "Growth Factor of New Deaths    0\n",
       "dtype: int64"
      ]
     },
     "execution_count": 29,
     "metadata": {},
     "output_type": "execute_result"
    }
   ],
   "source": [
    "df.isnull().sum()"
   ]
  },
  {
   "cell_type": "markdown",
   "id": "focused-angola",
   "metadata": {},
   "source": [
    "### 3.3 Ubah Tipe Data Kolom Kategori Menjadi Numerik "
   ]
  },
  {
   "cell_type": "markdown",
   "id": "funded-royalty",
   "metadata": {},
   "source": [
    "*Dataset memiliki 37 feature/kolom, terdiri dari 12 kolom dengan tipe data katagorikal dan 25 kolom dengan tipe data numerikal*"
   ]
  },
  {
   "cell_type": "markdown",
   "id": "broadband-digest",
   "metadata": {},
   "source": [
    "Disini kita akan menggunakan teknik Label Encoding. Meskipun hampir semua kolom kategorik dalam dataset tidak bersifat ordinal, namun jumlah kolom kategorik terlalu banyak sehingga akan terbentuk lebih banyak kolom saat kita melakukan Encoding dengan One-Hot Encoding yang tentu tidak efisien untuk dataset. Dengan pertimbangan tersebut, Label Encoding merupakan pilihan yang cocok."
   ]
  },
  {
   "cell_type": "code",
   "execution_count": 31,
   "id": "caroline-percentage",
   "metadata": {},
   "outputs": [],
   "source": [
    "# Membuat fungsi untuk mengubah tipe data kolom dengan metode Label Encoding\n",
    "le = LabelEncoder()\n",
    "\n",
    "def label_encoder(df):\n",
    "  for col in df.columns:\n",
    "    if df.dtypes[col] == 'object':\n",
    "      le.fit(df[col].astype(str))\n",
    "      df[col] = le.transform(df[col].astype(str))\n",
    "  return df"
   ]
  },
  {
   "cell_type": "code",
   "execution_count": 32,
   "id": "macro-graduate",
   "metadata": {},
   "outputs": [
    {
     "name": "stdout",
     "output_type": "stream",
     "text": [
      "<class 'pandas.core.frame.DataFrame'>\n",
      "Index: 13014 entries, DKI Jakarta to Sumatera Utara\n",
      "Data columns (total 34 columns):\n",
      " #   Column                       Non-Null Count  Dtype  \n",
      "---  ------                       --------------  -----  \n",
      " 0   Date                         13014 non-null  int32  \n",
      " 1   Location ISO Code            13014 non-null  int32  \n",
      " 2   New Cases                    13014 non-null  int64  \n",
      " 3   New Deaths                   13014 non-null  int64  \n",
      " 4   New Recovered                13014 non-null  int64  \n",
      " 5   New Active Cases             13014 non-null  int64  \n",
      " 6   Total Cases                  13014 non-null  int64  \n",
      " 7   Total Deaths                 13014 non-null  int64  \n",
      " 8   Total Recovered              13014 non-null  int64  \n",
      " 9   Total Active Cases           13014 non-null  int64  \n",
      " 10  Location Level               13014 non-null  int32  \n",
      " 11  Province                     13014 non-null  int32  \n",
      " 12  Country                      13014 non-null  int32  \n",
      " 13  Continent                    13014 non-null  int32  \n",
      " 14  Island                       13014 non-null  int32  \n",
      " 15  Time Zone                    13014 non-null  int32  \n",
      " 16  Total Regencies              13014 non-null  int64  \n",
      " 17  Total Cities                 13014 non-null  float64\n",
      " 18  Total Districts              13014 non-null  int64  \n",
      " 19  Total Urban Villages         13014 non-null  float64\n",
      " 20  Total Rural Villages         13014 non-null  float64\n",
      " 21  Area (km2)                   13014 non-null  int64  \n",
      " 22  Population                   13014 non-null  int64  \n",
      " 23  Population Density           13014 non-null  float64\n",
      " 24  Longitude                    13014 non-null  float64\n",
      " 25  Latitude                     13014 non-null  float64\n",
      " 26  New Cases per Million        13014 non-null  float64\n",
      " 27  Total Cases per Million      13014 non-null  float64\n",
      " 28  New Deaths per Million       13014 non-null  float64\n",
      " 29  Total Deaths per Million     13014 non-null  float64\n",
      " 30  Case Fatality Rate           13014 non-null  int32  \n",
      " 31  Case Recovered Rate          13014 non-null  int32  \n",
      " 32  Growth Factor of New Cases   13014 non-null  float64\n",
      " 33  Growth Factor of New Deaths  13014 non-null  float64\n",
      "dtypes: float64(12), int32(10), int64(12)\n",
      "memory usage: 3.0+ MB\n"
     ]
    }
   ],
   "source": [
    "# Terapkan fungsi pada dataset, lalu cek tipe data tiap kolom untuk melihat perubahannya\n",
    "df = label_encoder(df)\n",
    "df.info()"
   ]
  },
  {
   "cell_type": "markdown",
   "id": "diverse-sierra",
   "metadata": {},
   "source": [
    "## 4. Modeling"
   ]
  },
  {
   "cell_type": "markdown",
   "id": "protected-seattle",
   "metadata": {},
   "source": [
    "Membuat model machine learning yang akan memprediksi angka 'New Cases' dengan metode Decision Tree"
   ]
  },
  {
   "cell_type": "markdown",
   "id": "searching-matrix",
   "metadata": {},
   "source": [
    "### 4.1 Splitting Data "
   ]
  },
  {
   "cell_type": "markdown",
   "id": "moral-stick",
   "metadata": {},
   "source": [
    "Melakukan splitting data dengan fungsi `train_test_split()` dari library Scikit-learn"
   ]
  },
  {
   "cell_type": "code",
   "execution_count": 33,
   "id": "ideal-principle",
   "metadata": {},
   "outputs": [],
   "source": [
    "X = df.drop(columns=['New Cases'])\n",
    "y = df['New Cases']\n",
    "\n",
    "X_train, X_test, y_train, y_test = train_test_split(X, y, test_size=0.1)"
   ]
  },
  {
   "cell_type": "code",
   "execution_count": 34,
   "id": "unlimited-character",
   "metadata": {},
   "outputs": [
    {
     "name": "stdout",
     "output_type": "stream",
     "text": [
      "X train: (11712, 33)\n",
      "y train: (11712,)\n",
      "X test: (1302, 33)\n",
      "y test: (1302,)\n"
     ]
    }
   ],
   "source": [
    "print(f\"X train: {X_train.shape}\")\n",
    "print(f\"y train: {y_train.shape}\")\n",
    "print(f\"X test: {X_test.shape}\")\n",
    "print(f\"y test: {y_test.shape}\")"
   ]
  },
  {
   "cell_type": "markdown",
   "id": "thorough-netscape",
   "metadata": {},
   "source": [
    "### 4.2 Training Model"
   ]
  },
  {
   "cell_type": "code",
   "execution_count": 35,
   "id": "focused-sacrifice",
   "metadata": {},
   "outputs": [],
   "source": [
    "model_dt = DecisionTreeClassifier().fit(X_train, y_train)"
   ]
  },
  {
   "cell_type": "code",
   "execution_count": 36,
   "id": "parental-summary",
   "metadata": {},
   "outputs": [
    {
     "name": "stdout",
     "output_type": "stream",
     "text": [
      "Akurasi Decision Tree Model:\t49.309%\n"
     ]
    }
   ],
   "source": [
    "# cek akurasi\n",
    "score_model_dt= model_dt.score(X_test, y_test)\n",
    "print(f\"Akurasi Decision Tree Model:\\t{round(score_model_dt * 100, 3)}%\")"
   ]
  },
  {
   "cell_type": "markdown",
   "id": "duplicate-commonwealth",
   "metadata": {},
   "source": [
    "## 5 Model Evaluation "
   ]
  },
  {
   "cell_type": "markdown",
   "id": "congressional-template",
   "metadata": {},
   "source": [
    "### 5.1 Improve Model with Feature Scaling"
   ]
  },
  {
   "cell_type": "markdown",
   "id": "stuffed-sleeve",
   "metadata": {},
   "source": [
    "#### 5.1.1 Melakukan feature scaling / normalisasi data dengan fungsi `MinMaxScaler()` dari library Skicit-learn"
   ]
  },
  {
   "cell_type": "code",
   "execution_count": 37,
   "id": "directed-float",
   "metadata": {},
   "outputs": [],
   "source": [
    "scaler = MinMaxScaler()\n",
    "scaler.fit(X_train)\n",
    "X_train_scaled = scaler.transform(X_train)\n",
    "X_test_scaled = scaler.transform(X_test)"
   ]
  },
  {
   "cell_type": "code",
   "execution_count": 38,
   "id": "linear-testimony",
   "metadata": {},
   "outputs": [
    {
     "data": {
      "text/html": [
       "<div>\n",
       "<style scoped>\n",
       "    .dataframe tbody tr th:only-of-type {\n",
       "        vertical-align: middle;\n",
       "    }\n",
       "\n",
       "    .dataframe tbody tr th {\n",
       "        vertical-align: top;\n",
       "    }\n",
       "\n",
       "    .dataframe thead th {\n",
       "        text-align: right;\n",
       "    }\n",
       "</style>\n",
       "<table border=\"1\" class=\"dataframe\">\n",
       "  <thead>\n",
       "    <tr style=\"text-align: right;\">\n",
       "      <th></th>\n",
       "      <th>Date</th>\n",
       "      <th>Location ISO Code</th>\n",
       "      <th>New Deaths</th>\n",
       "      <th>New Recovered</th>\n",
       "      <th>New Active Cases</th>\n",
       "      <th>Total Cases</th>\n",
       "      <th>Total Deaths</th>\n",
       "      <th>Total Recovered</th>\n",
       "      <th>Total Active Cases</th>\n",
       "      <th>Location Level</th>\n",
       "      <th>...</th>\n",
       "      <th>Longitude</th>\n",
       "      <th>Latitude</th>\n",
       "      <th>New Cases per Million</th>\n",
       "      <th>Total Cases per Million</th>\n",
       "      <th>New Deaths per Million</th>\n",
       "      <th>Total Deaths per Million</th>\n",
       "      <th>Case Fatality Rate</th>\n",
       "      <th>Case Recovered Rate</th>\n",
       "      <th>Growth Factor of New Cases</th>\n",
       "      <th>Growth Factor of New Deaths</th>\n",
       "    </tr>\n",
       "  </thead>\n",
       "  <tbody>\n",
       "    <tr>\n",
       "      <th>0</th>\n",
       "      <td>0.349490</td>\n",
       "      <td>0.352941</td>\n",
       "      <td>0.029412</td>\n",
       "      <td>0.038656</td>\n",
       "      <td>0.475491</td>\n",
       "      <td>0.035364</td>\n",
       "      <td>0.031126</td>\n",
       "      <td>0.032931</td>\n",
       "      <td>0.050600</td>\n",
       "      <td>1.0</td>\n",
       "      <td>...</td>\n",
       "      <td>0.468055</td>\n",
       "      <td>0.707793</td>\n",
       "      <td>0.265266</td>\n",
       "      <td>0.425471</td>\n",
       "      <td>0.106602</td>\n",
       "      <td>0.608641</td>\n",
       "      <td>0.341017</td>\n",
       "      <td>0.769572</td>\n",
       "      <td>0.008299</td>\n",
       "      <td>0.011471</td>\n",
       "    </tr>\n",
       "    <tr>\n",
       "      <th>1</th>\n",
       "      <td>0.522959</td>\n",
       "      <td>0.117647</td>\n",
       "      <td>0.002101</td>\n",
       "      <td>0.000844</td>\n",
       "      <td>0.486578</td>\n",
       "      <td>0.020197</td>\n",
       "      <td>0.013251</td>\n",
       "      <td>0.017027</td>\n",
       "      <td>0.046136</td>\n",
       "      <td>1.0</td>\n",
       "      <td>...</td>\n",
       "      <td>0.220136</td>\n",
       "      <td>0.172412</td>\n",
       "      <td>0.002612</td>\n",
       "      <td>0.080502</td>\n",
       "      <td>0.002435</td>\n",
       "      <td>0.085845</td>\n",
       "      <td>0.106518</td>\n",
       "      <td>0.638736</td>\n",
       "      <td>0.007635</td>\n",
       "      <td>0.000784</td>\n",
       "    </tr>\n",
       "    <tr>\n",
       "      <th>2</th>\n",
       "      <td>0.204082</td>\n",
       "      <td>0.352941</td>\n",
       "      <td>0.018908</td>\n",
       "      <td>0.009511</td>\n",
       "      <td>0.495137</td>\n",
       "      <td>0.012640</td>\n",
       "      <td>0.014215</td>\n",
       "      <td>0.012117</td>\n",
       "      <td>0.019110</td>\n",
       "      <td>1.0</td>\n",
       "      <td>...</td>\n",
       "      <td>0.468055</td>\n",
       "      <td>0.707793</td>\n",
       "      <td>0.145123</td>\n",
       "      <td>0.152085</td>\n",
       "      <td>0.068452</td>\n",
       "      <td>0.277970</td>\n",
       "      <td>0.442766</td>\n",
       "      <td>0.811646</td>\n",
       "      <td>0.009710</td>\n",
       "      <td>0.088235</td>\n",
       "    </tr>\n",
       "    <tr>\n",
       "      <th>3</th>\n",
       "      <td>0.403061</td>\n",
       "      <td>0.558824</td>\n",
       "      <td>0.000000</td>\n",
       "      <td>0.000000</td>\n",
       "      <td>0.486676</td>\n",
       "      <td>0.002772</td>\n",
       "      <td>0.002843</td>\n",
       "      <td>0.002639</td>\n",
       "      <td>0.009636</td>\n",
       "      <td>1.0</td>\n",
       "      <td>...</td>\n",
       "      <td>0.732995</td>\n",
       "      <td>0.689058</td>\n",
       "      <td>0.001773</td>\n",
       "      <td>0.090602</td>\n",
       "      <td>0.000000</td>\n",
       "      <td>0.150997</td>\n",
       "      <td>0.372019</td>\n",
       "      <td>0.801527</td>\n",
       "      <td>0.008299</td>\n",
       "      <td>0.000000</td>\n",
       "    </tr>\n",
       "    <tr>\n",
       "      <th>4</th>\n",
       "      <td>0.834184</td>\n",
       "      <td>0.264706</td>\n",
       "      <td>0.010504</td>\n",
       "      <td>0.021936</td>\n",
       "      <td>0.483077</td>\n",
       "      <td>0.008187</td>\n",
       "      <td>0.016292</td>\n",
       "      <td>0.005688</td>\n",
       "      <td>0.029308</td>\n",
       "      <td>1.0</td>\n",
       "      <td>...</td>\n",
       "      <td>0.237537</td>\n",
       "      <td>0.191938</td>\n",
       "      <td>0.054835</td>\n",
       "      <td>0.032263</td>\n",
       "      <td>0.012446</td>\n",
       "      <td>0.104339</td>\n",
       "      <td>0.655803</td>\n",
       "      <td>0.436535</td>\n",
       "      <td>0.009710</td>\n",
       "      <td>0.009804</td>\n",
       "    </tr>\n",
       "    <tr>\n",
       "      <th>...</th>\n",
       "      <td>...</td>\n",
       "      <td>...</td>\n",
       "      <td>...</td>\n",
       "      <td>...</td>\n",
       "      <td>...</td>\n",
       "      <td>...</td>\n",
       "      <td>...</td>\n",
       "      <td>...</td>\n",
       "      <td>...</td>\n",
       "      <td>...</td>\n",
       "      <td>...</td>\n",
       "      <td>...</td>\n",
       "      <td>...</td>\n",
       "      <td>...</td>\n",
       "      <td>...</td>\n",
       "      <td>...</td>\n",
       "      <td>...</td>\n",
       "      <td>...</td>\n",
       "      <td>...</td>\n",
       "      <td>...</td>\n",
       "      <td>...</td>\n",
       "    </tr>\n",
       "    <tr>\n",
       "      <th>11707</th>\n",
       "      <td>0.173469</td>\n",
       "      <td>0.441176</td>\n",
       "      <td>0.000000</td>\n",
       "      <td>0.001227</td>\n",
       "      <td>0.489885</td>\n",
       "      <td>0.003325</td>\n",
       "      <td>0.004153</td>\n",
       "      <td>0.003144</td>\n",
       "      <td>0.010215</td>\n",
       "      <td>1.0</td>\n",
       "      <td>...</td>\n",
       "      <td>0.395044</td>\n",
       "      <td>0.548483</td>\n",
       "      <td>0.045365</td>\n",
       "      <td>0.055302</td>\n",
       "      <td>0.000000</td>\n",
       "      <td>0.112239</td>\n",
       "      <td>0.469793</td>\n",
       "      <td>0.791763</td>\n",
       "      <td>0.011535</td>\n",
       "      <td>0.000000</td>\n",
       "    </tr>\n",
       "    <tr>\n",
       "      <th>11708</th>\n",
       "      <td>0.734694</td>\n",
       "      <td>0.617647</td>\n",
       "      <td>0.000000</td>\n",
       "      <td>0.000077</td>\n",
       "      <td>0.486481</td>\n",
       "      <td>0.000074</td>\n",
       "      <td>0.000049</td>\n",
       "      <td>0.000052</td>\n",
       "      <td>0.006949</td>\n",
       "      <td>1.0</td>\n",
       "      <td>...</td>\n",
       "      <td>0.590677</td>\n",
       "      <td>0.000000</td>\n",
       "      <td>0.000000</td>\n",
       "      <td>0.000591</td>\n",
       "      <td>0.000000</td>\n",
       "      <td>0.000635</td>\n",
       "      <td>0.108108</td>\n",
       "      <td>0.433872</td>\n",
       "      <td>0.008299</td>\n",
       "      <td>0.009804</td>\n",
       "    </tr>\n",
       "    <tr>\n",
       "      <th>11709</th>\n",
       "      <td>0.928571</td>\n",
       "      <td>0.558824</td>\n",
       "      <td>0.002101</td>\n",
       "      <td>0.000000</td>\n",
       "      <td>0.486578</td>\n",
       "      <td>0.001277</td>\n",
       "      <td>0.001755</td>\n",
       "      <td>0.001205</td>\n",
       "      <td>0.008045</td>\n",
       "      <td>1.0</td>\n",
       "      <td>...</td>\n",
       "      <td>0.732995</td>\n",
       "      <td>0.689058</td>\n",
       "      <td>0.001773</td>\n",
       "      <td>0.041741</td>\n",
       "      <td>0.020563</td>\n",
       "      <td>0.093229</td>\n",
       "      <td>0.496820</td>\n",
       "      <td>0.788567</td>\n",
       "      <td>0.000830</td>\n",
       "      <td>0.004902</td>\n",
       "    </tr>\n",
       "    <tr>\n",
       "      <th>11710</th>\n",
       "      <td>0.030612</td>\n",
       "      <td>0.941176</td>\n",
       "      <td>0.004202</td>\n",
       "      <td>0.006903</td>\n",
       "      <td>0.485411</td>\n",
       "      <td>0.013287</td>\n",
       "      <td>0.017751</td>\n",
       "      <td>0.012899</td>\n",
       "      <td>0.017890</td>\n",
       "      <td>1.0</td>\n",
       "      <td>...</td>\n",
       "      <td>0.051248</td>\n",
       "      <td>0.842443</td>\n",
       "      <td>0.012548</td>\n",
       "      <td>0.038175</td>\n",
       "      <td>0.003517</td>\n",
       "      <td>0.082891</td>\n",
       "      <td>0.488076</td>\n",
       "      <td>0.830463</td>\n",
       "      <td>0.008548</td>\n",
       "      <td>0.019608</td>\n",
       "    </tr>\n",
       "    <tr>\n",
       "      <th>11711</th>\n",
       "      <td>0.625000</td>\n",
       "      <td>0.647059</td>\n",
       "      <td>0.000000</td>\n",
       "      <td>0.000000</td>\n",
       "      <td>0.486968</td>\n",
       "      <td>0.000220</td>\n",
       "      <td>0.000173</td>\n",
       "      <td>0.000045</td>\n",
       "      <td>0.008197</td>\n",
       "      <td>1.0</td>\n",
       "      <td>...</td>\n",
       "      <td>1.000000</td>\n",
       "      <td>0.311129</td>\n",
       "      <td>0.002146</td>\n",
       "      <td>0.002172</td>\n",
       "      <td>0.000000</td>\n",
       "      <td>0.002765</td>\n",
       "      <td>0.320350</td>\n",
       "      <td>0.074738</td>\n",
       "      <td>0.006639</td>\n",
       "      <td>0.009804</td>\n",
       "    </tr>\n",
       "  </tbody>\n",
       "</table>\n",
       "<p>11712 rows × 33 columns</p>\n",
       "</div>"
      ],
      "text/plain": [
       "           Date  Location ISO Code  New Deaths  New Recovered  \\\n",
       "0      0.349490           0.352941    0.029412       0.038656   \n",
       "1      0.522959           0.117647    0.002101       0.000844   \n",
       "2      0.204082           0.352941    0.018908       0.009511   \n",
       "3      0.403061           0.558824    0.000000       0.000000   \n",
       "4      0.834184           0.264706    0.010504       0.021936   \n",
       "...         ...                ...         ...            ...   \n",
       "11707  0.173469           0.441176    0.000000       0.001227   \n",
       "11708  0.734694           0.617647    0.000000       0.000077   \n",
       "11709  0.928571           0.558824    0.002101       0.000000   \n",
       "11710  0.030612           0.941176    0.004202       0.006903   \n",
       "11711  0.625000           0.647059    0.000000       0.000000   \n",
       "\n",
       "       New Active Cases  Total Cases  Total Deaths  Total Recovered  \\\n",
       "0              0.475491     0.035364      0.031126         0.032931   \n",
       "1              0.486578     0.020197      0.013251         0.017027   \n",
       "2              0.495137     0.012640      0.014215         0.012117   \n",
       "3              0.486676     0.002772      0.002843         0.002639   \n",
       "4              0.483077     0.008187      0.016292         0.005688   \n",
       "...                 ...          ...           ...              ...   \n",
       "11707          0.489885     0.003325      0.004153         0.003144   \n",
       "11708          0.486481     0.000074      0.000049         0.000052   \n",
       "11709          0.486578     0.001277      0.001755         0.001205   \n",
       "11710          0.485411     0.013287      0.017751         0.012899   \n",
       "11711          0.486968     0.000220      0.000173         0.000045   \n",
       "\n",
       "       Total Active Cases  Location Level  ...  Longitude  Latitude  \\\n",
       "0                0.050600             1.0  ...   0.468055  0.707793   \n",
       "1                0.046136             1.0  ...   0.220136  0.172412   \n",
       "2                0.019110             1.0  ...   0.468055  0.707793   \n",
       "3                0.009636             1.0  ...   0.732995  0.689058   \n",
       "4                0.029308             1.0  ...   0.237537  0.191938   \n",
       "...                   ...             ...  ...        ...       ...   \n",
       "11707            0.010215             1.0  ...   0.395044  0.548483   \n",
       "11708            0.006949             1.0  ...   0.590677  0.000000   \n",
       "11709            0.008045             1.0  ...   0.732995  0.689058   \n",
       "11710            0.017890             1.0  ...   0.051248  0.842443   \n",
       "11711            0.008197             1.0  ...   1.000000  0.311129   \n",
       "\n",
       "       New Cases per Million  Total Cases per Million  New Deaths per Million  \\\n",
       "0                   0.265266                 0.425471                0.106602   \n",
       "1                   0.002612                 0.080502                0.002435   \n",
       "2                   0.145123                 0.152085                0.068452   \n",
       "3                   0.001773                 0.090602                0.000000   \n",
       "4                   0.054835                 0.032263                0.012446   \n",
       "...                      ...                      ...                     ...   \n",
       "11707               0.045365                 0.055302                0.000000   \n",
       "11708               0.000000                 0.000591                0.000000   \n",
       "11709               0.001773                 0.041741                0.020563   \n",
       "11710               0.012548                 0.038175                0.003517   \n",
       "11711               0.002146                 0.002172                0.000000   \n",
       "\n",
       "       Total Deaths per Million  Case Fatality Rate  Case Recovered Rate  \\\n",
       "0                      0.608641            0.341017             0.769572   \n",
       "1                      0.085845            0.106518             0.638736   \n",
       "2                      0.277970            0.442766             0.811646   \n",
       "3                      0.150997            0.372019             0.801527   \n",
       "4                      0.104339            0.655803             0.436535   \n",
       "...                         ...                 ...                  ...   \n",
       "11707                  0.112239            0.469793             0.791763   \n",
       "11708                  0.000635            0.108108             0.433872   \n",
       "11709                  0.093229            0.496820             0.788567   \n",
       "11710                  0.082891            0.488076             0.830463   \n",
       "11711                  0.002765            0.320350             0.074738   \n",
       "\n",
       "       Growth Factor of New Cases  Growth Factor of New Deaths  \n",
       "0                        0.008299                     0.011471  \n",
       "1                        0.007635                     0.000784  \n",
       "2                        0.009710                     0.088235  \n",
       "3                        0.008299                     0.000000  \n",
       "4                        0.009710                     0.009804  \n",
       "...                           ...                          ...  \n",
       "11707                    0.011535                     0.000000  \n",
       "11708                    0.008299                     0.009804  \n",
       "11709                    0.000830                     0.004902  \n",
       "11710                    0.008548                     0.019608  \n",
       "11711                    0.006639                     0.009804  \n",
       "\n",
       "[11712 rows x 33 columns]"
      ]
     },
     "execution_count": 38,
     "metadata": {},
     "output_type": "execute_result"
    }
   ],
   "source": [
    "# Ubah data yang telah dinormalisasi ke dalam bentuk Dataframe\n",
    "pd.DataFrame(X_train_scaled, columns=X_train.columns)"
   ]
  },
  {
   "cell_type": "markdown",
   "id": "statutory-receptor",
   "metadata": {},
   "source": [
    "#### 5.1.2 Melakukan Pemodelan Kembali dengan Data yang Sudah di Normalisasi"
   ]
  },
  {
   "cell_type": "code",
   "execution_count": 39,
   "id": "personal-calculation",
   "metadata": {},
   "outputs": [],
   "source": [
    "model_dt = DecisionTreeClassifier().fit(X_train_scaled, y_train)"
   ]
  },
  {
   "cell_type": "code",
   "execution_count": 40,
   "id": "wired-conspiracy",
   "metadata": {},
   "outputs": [
    {
     "name": "stdout",
     "output_type": "stream",
     "text": [
      "Akurasi Decision Tree Model yang Sudah di Normalisasi:\t50.307%\n"
     ]
    }
   ],
   "source": [
    "score_scaled_model_dt = model_dt.score(X_test_scaled, y_test)\n",
    "print(f\"Akurasi Decision Tree Model yang Sudah di Normalisasi:\\t{round(score_scaled_model_dt * 100, 3)}%\")"
   ]
  },
  {
   "cell_type": "markdown",
   "id": "waiting-underwear",
   "metadata": {},
   "source": [
    "## 6. Predict Test Data"
   ]
  },
  {
   "cell_type": "markdown",
   "id": "alone-thursday",
   "metadata": {},
   "source": [
    "### 6.1 Melakukan Prediksi Dengan Data Test"
   ]
  },
  {
   "cell_type": "code",
   "execution_count": 41,
   "id": "twelve-wesley",
   "metadata": {},
   "outputs": [],
   "source": [
    "Y_predict = model_dt.predict(X_test_scaled)"
   ]
  },
  {
   "cell_type": "code",
   "execution_count": 42,
   "id": "specialized-terry",
   "metadata": {},
   "outputs": [
    {
     "data": {
      "text/plain": [
       "array([  4, 153,  20, ...,  48,  68, 319], dtype=int64)"
      ]
     },
     "execution_count": 42,
     "metadata": {},
     "output_type": "execute_result"
    }
   ],
   "source": [
    "Y_predict"
   ]
  },
  {
   "cell_type": "markdown",
   "id": "rolled-semiconductor",
   "metadata": {},
   "source": [
    "### 6.2 Mengubah Data Hasil Prediksi ke dalam Bentuk Dataframe"
   ]
  },
  {
   "cell_type": "code",
   "execution_count": 43,
   "id": "brave-indonesian",
   "metadata": {},
   "outputs": [],
   "source": [
    "new_cases_prediction = pd.DataFrame({'New Cases': Y_predict})"
   ]
  },
  {
   "cell_type": "code",
   "execution_count": 44,
   "id": "logical-treatment",
   "metadata": {},
   "outputs": [
    {
     "data": {
      "text/html": [
       "<div>\n",
       "<style scoped>\n",
       "    .dataframe tbody tr th:only-of-type {\n",
       "        vertical-align: middle;\n",
       "    }\n",
       "\n",
       "    .dataframe tbody tr th {\n",
       "        vertical-align: top;\n",
       "    }\n",
       "\n",
       "    .dataframe thead th {\n",
       "        text-align: right;\n",
       "    }\n",
       "</style>\n",
       "<table border=\"1\" class=\"dataframe\">\n",
       "  <thead>\n",
       "    <tr style=\"text-align: right;\">\n",
       "      <th></th>\n",
       "      <th>New Cases</th>\n",
       "    </tr>\n",
       "  </thead>\n",
       "  <tbody>\n",
       "    <tr>\n",
       "      <th>0</th>\n",
       "      <td>4</td>\n",
       "    </tr>\n",
       "    <tr>\n",
       "      <th>1</th>\n",
       "      <td>153</td>\n",
       "    </tr>\n",
       "    <tr>\n",
       "      <th>2</th>\n",
       "      <td>20</td>\n",
       "    </tr>\n",
       "    <tr>\n",
       "      <th>3</th>\n",
       "      <td>0</td>\n",
       "    </tr>\n",
       "    <tr>\n",
       "      <th>4</th>\n",
       "      <td>0</td>\n",
       "    </tr>\n",
       "    <tr>\n",
       "      <th>5</th>\n",
       "      <td>28</td>\n",
       "    </tr>\n",
       "    <tr>\n",
       "      <th>6</th>\n",
       "      <td>9</td>\n",
       "    </tr>\n",
       "    <tr>\n",
       "      <th>7</th>\n",
       "      <td>10</td>\n",
       "    </tr>\n",
       "    <tr>\n",
       "      <th>8</th>\n",
       "      <td>29</td>\n",
       "    </tr>\n",
       "    <tr>\n",
       "      <th>9</th>\n",
       "      <td>55</td>\n",
       "    </tr>\n",
       "  </tbody>\n",
       "</table>\n",
       "</div>"
      ],
      "text/plain": [
       "   New Cases\n",
       "0          4\n",
       "1        153\n",
       "2         20\n",
       "3          0\n",
       "4          0\n",
       "5         28\n",
       "6          9\n",
       "7         10\n",
       "8         29\n",
       "9         55"
      ]
     },
     "execution_count": 44,
     "metadata": {},
     "output_type": "execute_result"
    }
   ],
   "source": [
    "new_cases_prediction.head(10)"
   ]
  },
  {
   "cell_type": "markdown",
   "id": "fiscal-toolbox",
   "metadata": {},
   "source": [
    "### 6.3 Eksport DataFrame ke dalam bentuk file csv"
   ]
  },
  {
   "cell_type": "code",
   "execution_count": 45,
   "id": "editorial-chambers",
   "metadata": {},
   "outputs": [
    {
     "name": "stdout",
     "output_type": "stream",
     "text": [
      "File 'new_cases_prediction.csv' has been exported\n"
     ]
    }
   ],
   "source": [
    "filename = 'new_cases_prediction.csv'\n",
    "\n",
    "new_cases_prediction.to_csv(filename, index=False)\n",
    "print(f\"File '{filename}' has been exported\")"
   ]
  }
 ],
 "metadata": {
  "kernelspec": {
   "display_name": "Python 3",
   "language": "python",
   "name": "python3"
  },
  "language_info": {
   "codemirror_mode": {
    "name": "ipython",
    "version": 3
   },
   "file_extension": ".py",
   "mimetype": "text/x-python",
   "name": "python",
   "nbconvert_exporter": "python",
   "pygments_lexer": "ipython3",
   "version": "3.8.5"
  }
 },
 "nbformat": 4,
 "nbformat_minor": 5
}
